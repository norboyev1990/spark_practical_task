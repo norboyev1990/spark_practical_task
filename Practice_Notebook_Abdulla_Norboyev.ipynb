{
 "cells": [
  {
   "cell_type": "code",
   "execution_count": 103,
   "id": "5eb55243",
   "metadata": {
    "ExecuteTime": {
     "start_time": "2023-05-02T11:18:04.426630Z",
     "end_time": "2023-05-02T11:18:04.494571Z"
    }
   },
   "outputs": [
    {
     "data": {
      "text/plain": "True"
     },
     "execution_count": 103,
     "metadata": {},
     "output_type": "execute_result"
    }
   ],
   "source": [
    "import os\n",
    "from pyspark.sql import SparkSession\n",
    "from opencage.geocoder import OpenCageGeocode\n",
    "from pprint import pprint\n",
    "from pyspark.sql.functions import udf, avg\n",
    "from pyspark.sql.types import FloatType, StringType\n",
    "import geohash2 as gh\n",
    "import numpy as np\n",
    "# Load the environment variables from the .env file\n",
    "from dotenv import load_dotenv\n",
    "load_dotenv()"
   ]
  },
  {
   "cell_type": "markdown",
   "source": [
    "# Create a SparkSession"
   ],
   "metadata": {
    "collapsed": false
   }
  },
  {
   "cell_type": "code",
   "execution_count": 111,
   "id": "646ba3ff",
   "metadata": {
    "ExecuteTime": {
     "start_time": "2023-05-02T11:40:20.878427Z",
     "end_time": "2023-05-02T11:40:21.039397Z"
    }
   },
   "outputs": [],
   "source": [
    "# Init SparkSession\n",
    "spark = SparkSession.builder\\\n",
    "    .appName('workshop1')\\\n",
    "    .master(\"local[*]\") \\\n",
    "    .config(\"spark.executor.memory\", \"8g\") \\\n",
    "    .config(\"spark.driver.memory\", \"8g\") \\\n",
    "    .getOrCreate()\n"
   ]
  },
  {
   "cell_type": "code",
   "execution_count": 112,
   "outputs": [
    {
     "data": {
      "text/plain": "<pyspark.sql.session.SparkSession at 0x270881e33a0>",
      "text/html": "\n            <div>\n                <p><b>SparkSession - in-memory</b></p>\n                \n        <div>\n            <p><b>SparkContext</b></p>\n\n            <p><a href=\"http://DESKTOP-T8MP7TH:4040\">Spark UI</a></p>\n\n            <dl>\n              <dt>Version</dt>\n                <dd><code>v3.2.4</code></dd>\n              <dt>Master</dt>\n                <dd><code>local[*]</code></dd>\n              <dt>AppName</dt>\n                <dd><code>workshop1</code></dd>\n            </dl>\n        </div>\n        \n            </div>\n        "
     },
     "execution_count": 112,
     "metadata": {},
     "output_type": "execute_result"
    }
   ],
   "source": [
    "spark"
   ],
   "metadata": {
    "collapsed": false,
    "ExecuteTime": {
     "start_time": "2023-05-02T11:40:22.255809Z",
     "end_time": "2023-05-02T11:40:22.326825Z"
    }
   }
  },
  {
   "cell_type": "markdown",
   "source": [
    "# Restaurant Data"
   ],
   "metadata": {
    "collapsed": false
   }
  },
  {
   "cell_type": "code",
   "execution_count": 113,
   "outputs": [
    {
     "name": "stdout",
     "output_type": "stream",
     "text": [
      "+------------+------------+--------------------+-----------------------+-------+--------------+------+--------+\n",
      "|          id|franchise_id|      franchise_name|restaurant_franchise_id|country|          city|   lat|     lng|\n",
      "+------------+------------+--------------------+-----------------------+-------+--------------+------+--------+\n",
      "|197568495625|          10|    The Golden Spoon|                  24784|     US|       Decatur|34.578| -87.021|\n",
      "| 17179869242|          59|         Azalea Cafe|                  10902|     FR|         Paris|48.861|   2.368|\n",
      "|214748364826|          27|     The Corner Cafe|                  92040|     US|    Rapid City|44.080|-103.250|\n",
      "|154618822706|          51|        The Pizzeria|                  41484|     AT|        Vienna|48.213|  16.413|\n",
      "|163208757312|          65|       Chef's Corner|                  96638|     GB|        London|51.495|  -0.191|\n",
      "| 68719476763|          28|    The Spicy Pickle|                  77517|     US|      Grayling|44.657| -84.744|\n",
      "|223338299419|          28|    The Spicy Pickle|                  36937|     US|        Oswego|43.452| -76.532|\n",
      "|240518168650|          75|     Greenhouse Cafe|                  93164|     NL|     Amsterdam|52.370|   4.897|\n",
      "|128849018936|          57|The Yellow Submarine|                   5679|     FR|         Paris|48.872|   2.335|\n",
      "|197568495635|          20|       The Brasserie|                  24784|     US|Jeffersonville|39.616| -83.612|\n",
      "| 68719476768|          33|   The Blue Elephant|                  77517|     IT|         Milan|45.479|   9.146|\n",
      "| 51539607582|          31|           Bistro 42|                   6934|     IT|         Milan|45.444|   9.153|\n",
      "| 94489280554|          43|      The Food House|                  95399|     FR|         Paris|48.867|   2.329|\n",
      "|206158430215|           8|     The Green Olive|                  53370|     US|   Haltom City|32.789| -97.280|\n",
      "|154618822657|           2|        Bella Cucina|                  41484|     US|   Fort Pierce|27.412| -80.391|\n",
      "| 17179869217|          34|     The Tasty Treat|                  10902|     US|     Green Bay|44.476| -88.077|\n",
      "|  8589934633|          42|     The Daily Scoop|                  12630|     FR|         Paris|48.854|   2.343|\n",
      "|240518168596|          21|      The Lazy Daisy|                  93164|     US|    Mendenhall|39.860| -75.646|\n",
      "|171798691906|          67|  Crimson and Clover|                  65939|     NL|     Amsterdam|52.361|   4.894|\n",
      "| 42949673022|          63|          Cafe Paris|                  89646|     GB|        London|51.508|  -0.107|\n",
      "+------------+------------+--------------------+-----------------------+-------+--------------+------+--------+\n",
      "only showing top 20 rows\n",
      "\n"
     ]
    }
   ],
   "source": [
    "# Get data from csv files\n",
    "csv_dir = \"restaurant_csv/restaurant_csv\"\n",
    "csv_files = [os.path.join(csv_dir, f) for f in os.listdir(csv_dir) if f.endswith('.csv')]\n",
    "df = spark.read.format(\"csv\").option(\"header\", \"true\").load(csv_files)\n",
    "df.show()"
   ],
   "metadata": {
    "collapsed": false,
    "ExecuteTime": {
     "start_time": "2023-05-02T11:40:35.343655Z",
     "end_time": "2023-05-02T11:40:35.632947Z"
    }
   }
  },
  {
   "cell_type": "code",
   "execution_count": 107,
   "id": "1a1370f4",
   "metadata": {
    "ExecuteTime": {
     "start_time": "2023-05-02T11:18:16.600347Z",
     "end_time": "2023-05-02T11:18:18.223179Z"
    }
   },
   "outputs": [
    {
     "name": "stdout",
     "output_type": "stream",
     "text": [
      "+------------+------------+--------------------+-----------------------+-------+--------------+------+--------+\n",
      "|          id|franchise_id|      franchise_name|restaurant_franchise_id|country|          city|   lat|     lng|\n",
      "+------------+------------+--------------------+-----------------------+-------+--------------+------+--------+\n",
      "|197568495625|          10|    The Golden Spoon|                  24784|     US|       Decatur|34.578| -87.021|\n",
      "| 17179869242|          59|         Azalea Cafe|                  10902|     FR|         Paris|48.861|   2.368|\n",
      "|214748364826|          27|     The Corner Cafe|                  92040|     US|    Rapid City|44.080|-103.250|\n",
      "|154618822706|          51|        The Pizzeria|                  41484|     AT|        Vienna|48.213|  16.413|\n",
      "|163208757312|          65|       Chef's Corner|                  96638|     GB|        London|51.495|  -0.191|\n",
      "| 68719476763|          28|    The Spicy Pickle|                  77517|     US|      Grayling|44.657| -84.744|\n",
      "|223338299419|          28|    The Spicy Pickle|                  36937|     US|        Oswego|43.452| -76.532|\n",
      "|240518168650|          75|     Greenhouse Cafe|                  93164|     NL|     Amsterdam|52.370|   4.897|\n",
      "|128849018936|          57|The Yellow Submarine|                   5679|     FR|         Paris|48.872|   2.335|\n",
      "|197568495635|          20|       The Brasserie|                  24784|     US|Jeffersonville|39.616| -83.612|\n",
      "| 68719476768|          33|   The Blue Elephant|                  77517|     IT|         Milan|45.479|   9.146|\n",
      "| 51539607582|          31|           Bistro 42|                   6934|     IT|         Milan|45.444|   9.153|\n",
      "| 94489280554|          43|      The Food House|                  95399|     FR|         Paris|48.867|   2.329|\n",
      "|206158430215|           8|     The Green Olive|                  53370|     US|   Haltom City|32.789| -97.280|\n",
      "|154618822657|           2|        Bella Cucina|                  41484|     US|   Fort Pierce|27.412| -80.391|\n",
      "| 17179869217|          34|     The Tasty Treat|                  10902|     US|     Green Bay|44.476| -88.077|\n",
      "|  8589934633|          42|     The Daily Scoop|                  12630|     FR|         Paris|48.854|   2.343|\n",
      "|240518168596|          21|      The Lazy Daisy|                  93164|     US|    Mendenhall|39.860| -75.646|\n",
      "|171798691906|          67|  Crimson and Clover|                  65939|     NL|     Amsterdam|52.361|   4.894|\n",
      "| 42949673022|          63|          Cafe Paris|                  89646|     GB|        London|51.508|  -0.107|\n",
      "+------------+------------+--------------------+-----------------------+-------+--------------+------+--------+\n",
      "only showing top 20 rows\n",
      "\n"
     ]
    }
   ],
   "source": [
    "# get api key from environment variable\n",
    "api_key = os.environ.get('API_KEY')\n",
    "\n",
    "# Define UDF fuynctions for latitude and longitude\n",
    "@udf(returnType=StringType())\n",
    "def latitude_udf(city, country, value):\n",
    "    geocoder = OpenCageGeocode(api_key)\n",
    "    if value is None:\n",
    "        query = f\"{city}, {country}\"\n",
    "        result = geocoder.geocode(query)\n",
    "        value = result[0]['geometry']['lat']\n",
    "    return value\n",
    "\n",
    "@udf(returnType=StringType())\n",
    "def longitude_udf(city, country, value):\n",
    "    geocoder = OpenCageGeocode(api_key)\n",
    "    if value is None:\n",
    "        query = f\"{city}, {country}\"\n",
    "        result = geocoder.geocode(query)\n",
    "        value = result[0]['geometry']['lng']\n",
    "    return value\n",
    "\n",
    "# Apply the UDF to the lat and lng columns and updated values\n",
    "df = df.withColumn('lat', latitude_udf('city', 'country', 'lat'))\\\n",
    "       .withColumn('lng', longitude_udf('city', 'country', 'lng'))\n",
    "\n",
    "# Display the updated data\n",
    "df.show()"
   ]
  },
  {
   "cell_type": "code",
   "execution_count": 84,
   "id": "08dd00f4",
   "metadata": {
    "ExecuteTime": {
     "start_time": "2023-05-02T11:12:39.490643Z",
     "end_time": "2023-05-02T11:12:41.646137Z"
    }
   },
   "outputs": [
    {
     "name": "stdout",
     "output_type": "stream",
     "text": [
      "+------------+------------+--------------------+-----------------------+-------+--------------+------+--------+-------+\n",
      "|          id|franchise_id|      franchise_name|restaurant_franchise_id|country|          city|   lat|     lng|geohash|\n",
      "+------------+------------+--------------------+-----------------------+-------+--------------+------+--------+-------+\n",
      "|197568495625|          10|    The Golden Spoon|                  24784|     US|       Decatur|34.578| -87.021|   dn4h|\n",
      "| 17179869242|          59|         Azalea Cafe|                  10902|     FR|         Paris|48.861|   2.368|   u09t|\n",
      "|214748364826|          27|     The Corner Cafe|                  92040|     US|    Rapid City|44.080|-103.250|   9xyd|\n",
      "|154618822706|          51|        The Pizzeria|                  41484|     AT|        Vienna|48.213|  16.413|   u2ed|\n",
      "|163208757312|          65|       Chef's Corner|                  96638|     GB|        London|51.495|  -0.191|   gcpu|\n",
      "| 68719476763|          28|    The Spicy Pickle|                  77517|     US|      Grayling|44.657| -84.744|   dpgw|\n",
      "|223338299419|          28|    The Spicy Pickle|                  36937|     US|        Oswego|43.452| -76.532|   dr9x|\n",
      "|240518168650|          75|     Greenhouse Cafe|                  93164|     NL|     Amsterdam|52.370|   4.897|   u173|\n",
      "|128849018936|          57|The Yellow Submarine|                   5679|     FR|         Paris|48.872|   2.335|   u09w|\n",
      "|197568495635|          20|       The Brasserie|                  24784|     US|Jeffersonville|39.616| -83.612|   dph9|\n",
      "| 68719476768|          33|   The Blue Elephant|                  77517|     IT|         Milan|45.479|   9.146|   u0nd|\n",
      "| 51539607582|          31|           Bistro 42|                   6934|     IT|         Milan|45.444|   9.153|   u0nd|\n",
      "| 94489280554|          43|      The Food House|                  95399|     FR|         Paris|48.867|   2.329|   u09t|\n",
      "|206158430215|           8|     The Green Olive|                  53370|     US|   Haltom City|32.789| -97.280|   9vff|\n",
      "|154618822657|           2|        Bella Cucina|                  41484|     US|   Fort Pierce|27.412| -80.391|   dhyg|\n",
      "| 17179869217|          34|     The Tasty Treat|                  10902|     US|     Green Bay|44.476| -88.077|   dpcm|\n",
      "|  8589934633|          42|     The Daily Scoop|                  12630|     FR|         Paris|48.854|   2.343|   u09t|\n",
      "|240518168596|          21|      The Lazy Daisy|                  93164|     US|    Mendenhall|39.860| -75.646|   dr44|\n",
      "|171798691906|          67|  Crimson and Clover|                  65939|     NL|     Amsterdam|52.361|   4.894|   u173|\n",
      "| 42949673022|          63|          Cafe Paris|                  89646|     GB|        London|51.508|  -0.107|   gcpv|\n",
      "+------------+------------+--------------------+-----------------------+-------+--------------+------+--------+-------+\n",
      "only showing top 20 rows\n",
      "\n"
     ]
    }
   ],
   "source": [
    "@udf(returnType=StringType())\n",
    "def geohash_udf(lat, lng):\n",
    "    lat = float(lat)\n",
    "    lng = float(lng)\n",
    "    return gh.encode(lat, lng, precision=4)\n",
    "\n",
    "df = df.withColumn('geohash', geohash_udf('lat', 'lng'))\n",
    "\n",
    "df.show()"
   ]
  },
  {
   "cell_type": "code",
   "execution_count": 7,
   "outputs": [],
   "source": [
    "# save in parquet\n",
    "df.write.parquet('restaurant.parquet', mode='overwrite')"
   ],
   "metadata": {
    "collapsed": false,
    "ExecuteTime": {
     "start_time": "2023-05-02T10:24:11.684721Z",
     "end_time": "2023-05-02T10:24:17.532803Z"
    }
   }
  },
  {
   "cell_type": "code",
   "execution_count": 85,
   "outputs": [],
   "source": [
    "# read the cleaned restaurant dataframe from parquet\n",
    "restaurant_df = spark.read.parquet(\"restaurant.parquet\")"
   ],
   "metadata": {
    "collapsed": false,
    "ExecuteTime": {
     "start_time": "2023-05-02T11:12:47.102924Z",
     "end_time": "2023-05-02T11:12:47.324284Z"
    }
   }
  },
  {
   "cell_type": "markdown",
   "source": [
    "# Weather Data"
   ],
   "metadata": {
    "collapsed": false
   }
  },
  {
   "cell_type": "code",
   "execution_count": 86,
   "id": "774ad874",
   "metadata": {
    "ExecuteTime": {
     "start_time": "2023-05-02T11:13:01.294219Z",
     "end_time": "2023-05-02T11:13:03.162405Z"
    }
   },
   "outputs": [],
   "source": [
    "#Read weather dataset\n",
    "path = 'weather_dataset'\n",
    "dfw = spark.read.option(\"mergeSchema\", \"true\").option(\"recursiveFileLookup\", \"true\").parquet(path)"
   ]
  },
  {
   "cell_type": "code",
   "execution_count": 87,
   "outputs": [],
   "source": [
    "#Geohash weather dataset lat and lng\n",
    "dfw = dfw.withColumn('geohash', geohash_udf('lat', 'lng'))"
   ],
   "metadata": {
    "collapsed": false,
    "ExecuteTime": {
     "start_time": "2023-05-02T11:13:03.162405Z",
     "end_time": "2023-05-02T11:13:03.221274Z"
    }
   }
  },
  {
   "cell_type": "code",
   "execution_count": 88,
   "outputs": [
    {
     "name": "stdout",
     "output_type": "stream",
     "text": [
      "+--------+-------+----------+----------+----------+-------+\n",
      "|     lng|    lat|avg_tmpr_f|avg_tmpr_c| wthr_date|geohash|\n",
      "+--------+-------+----------+----------+----------+-------+\n",
      "| -111.09|18.6251|      80.7|      27.1|2017-08-29|   9e31|\n",
      "|-111.042|18.6305|      80.7|      27.1|2017-08-29|   9e31|\n",
      "|-110.995|18.6358|      80.7|      27.1|2017-08-29|   9e34|\n",
      "|-110.947|18.6412|      80.9|      27.2|2017-08-29|   9e34|\n",
      "|  -110.9|18.6465|      80.9|      27.2|2017-08-29|   9e34|\n",
      "|-110.852|18.6518|      80.9|      27.2|2017-08-29|   9e34|\n",
      "|-110.804|18.6571|      80.9|      27.2|2017-08-29|   9e34|\n",
      "|-105.068|19.1765|      82.4|      28.0|2017-08-29|   9emm|\n",
      "| -105.02|19.1799|      82.0|      27.8|2017-08-29|   9emm|\n",
      "|-104.972|19.1832|      82.0|      27.8|2017-08-29|   9emm|\n",
      "|-104.924|19.1866|      82.0|      27.8|2017-08-29|   9emm|\n",
      "|-104.876|19.1899|      82.0|      27.8|2017-08-29|   9emm|\n",
      "|-104.828|19.1932|      81.6|      27.6|2017-08-29|   9emm|\n",
      "| -104.78|19.1964|      81.6|      27.6|2017-08-29|   9emm|\n",
      "|-104.732|19.1997|      81.6|      27.6|2017-08-29|   9emt|\n",
      "|-104.684| 19.203|      77.8|      25.4|2017-08-29|   9emt|\n",
      "|-104.636|19.2062|      77.8|      25.4|2017-08-29|   9emt|\n",
      "|-104.588|19.2094|      75.2|      24.0|2017-08-29|   9emt|\n",
      "| -104.54|19.2126|      75.2|      24.0|2017-08-29|   9emt|\n",
      "|-104.492|19.2158|      75.2|      24.0|2017-08-29|   9emt|\n",
      "+--------+-------+----------+----------+----------+-------+\n",
      "only showing top 20 rows\n",
      "\n"
     ]
    }
   ],
   "source": [
    "dfw.show()"
   ],
   "metadata": {
    "collapsed": false,
    "ExecuteTime": {
     "start_time": "2023-05-02T11:13:04.728574Z",
     "end_time": "2023-05-02T11:13:06.937702Z"
    }
   }
  },
  {
   "cell_type": "code",
   "execution_count": 89,
   "id": "27101a79",
   "metadata": {
    "ExecuteTime": {
     "start_time": "2023-05-02T11:13:10.131718Z",
     "end_time": "2023-05-02T11:13:10.178619Z"
    }
   },
   "outputs": [],
   "source": [
    "# rename lat and lng columns to avoid ambiguity\n",
    "dfw = dfw.withColumnRenamed('lat', 'lat_weather') \\\n",
    "    .withColumnRenamed('lng', 'lng_weather')"
   ]
  },
  {
   "cell_type": "code",
   "execution_count": 90,
   "outputs": [
    {
     "name": "stdout",
     "output_type": "stream",
     "text": [
      "+-----------+-----------+----------+----------+----------+-------+\n",
      "|lng_weather|lat_weather|avg_tmpr_f|avg_tmpr_c| wthr_date|geohash|\n",
      "+-----------+-----------+----------+----------+----------+-------+\n",
      "|    -111.09|    18.6251|      80.7|      27.1|2017-08-29|   9e31|\n",
      "|   -111.042|    18.6305|      80.7|      27.1|2017-08-29|   9e31|\n",
      "|   -110.995|    18.6358|      80.7|      27.1|2017-08-29|   9e34|\n",
      "|   -110.947|    18.6412|      80.9|      27.2|2017-08-29|   9e34|\n",
      "|     -110.9|    18.6465|      80.9|      27.2|2017-08-29|   9e34|\n",
      "|   -110.852|    18.6518|      80.9|      27.2|2017-08-29|   9e34|\n",
      "|   -110.804|    18.6571|      80.9|      27.2|2017-08-29|   9e34|\n",
      "|   -105.068|    19.1765|      82.4|      28.0|2017-08-29|   9emm|\n",
      "|    -105.02|    19.1799|      82.0|      27.8|2017-08-29|   9emm|\n",
      "|   -104.972|    19.1832|      82.0|      27.8|2017-08-29|   9emm|\n",
      "|   -104.924|    19.1866|      82.0|      27.8|2017-08-29|   9emm|\n",
      "|   -104.876|    19.1899|      82.0|      27.8|2017-08-29|   9emm|\n",
      "|   -104.828|    19.1932|      81.6|      27.6|2017-08-29|   9emm|\n",
      "|    -104.78|    19.1964|      81.6|      27.6|2017-08-29|   9emm|\n",
      "|   -104.732|    19.1997|      81.6|      27.6|2017-08-29|   9emt|\n",
      "|   -104.684|     19.203|      77.8|      25.4|2017-08-29|   9emt|\n",
      "|   -104.636|    19.2062|      77.8|      25.4|2017-08-29|   9emt|\n",
      "|   -104.588|    19.2094|      75.2|      24.0|2017-08-29|   9emt|\n",
      "|    -104.54|    19.2126|      75.2|      24.0|2017-08-29|   9emt|\n",
      "|   -104.492|    19.2158|      75.2|      24.0|2017-08-29|   9emt|\n",
      "+-----------+-----------+----------+----------+----------+-------+\n",
      "only showing top 20 rows\n",
      "\n"
     ]
    }
   ],
   "source": [
    "dfw.show()"
   ],
   "metadata": {
    "collapsed": false,
    "ExecuteTime": {
     "start_time": "2023-05-02T11:13:10.482709Z",
     "end_time": "2023-05-02T11:13:11.913207Z"
    }
   }
  },
  {
   "cell_type": "code",
   "execution_count": 91,
   "outputs": [],
   "source": [
    "#drop rows where geohash and wthr_date together duplicate\n",
    "dfw = dfw.dropDuplicates(['wthr_date', 'geohash'])"
   ],
   "metadata": {
    "collapsed": false,
    "ExecuteTime": {
     "start_time": "2023-05-02T11:13:13.507874Z",
     "end_time": "2023-05-02T11:13:13.556753Z"
    }
   }
  },
  {
   "cell_type": "code",
   "execution_count": 15,
   "outputs": [],
   "source": [
    "#save in parquet\n",
    "dfw.write.parquet('weather_without_duplicates.parquet', mode='overwrite')"
   ],
   "metadata": {
    "collapsed": false,
    "ExecuteTime": {
     "start_time": "2023-05-02T10:24:20.314970Z",
     "end_time": "2023-05-02T10:28:43.342737Z"
    }
   }
  },
  {
   "cell_type": "code",
   "execution_count": 92,
   "outputs": [],
   "source": [
    "# read the cleaned weather dataframe from parquet\n",
    "weather_df = spark.read.parquet(\"weather_without_duplicates.parquet\")"
   ],
   "metadata": {
    "collapsed": false,
    "ExecuteTime": {
     "start_time": "2023-05-02T11:13:18.609894Z",
     "end_time": "2023-05-02T11:13:18.774692Z"
    }
   }
  },
  {
   "cell_type": "code",
   "execution_count": 17,
   "outputs": [
    {
     "name": "stdout",
     "output_type": "stream",
     "text": [
      "+---------+-------+-----+\n",
      "|wthr_date|geohash|count|\n",
      "+---------+-------+-----+\n",
      "+---------+-------+-----+\n",
      "\n"
     ]
    }
   ],
   "source": [
    "#show where geohash and wthr_date together duplicate\n",
    "weather_df.groupBy('wthr_date', 'geohash').count().where('count > 1').show()"
   ],
   "metadata": {
    "collapsed": false,
    "ExecuteTime": {
     "start_time": "2023-05-02T10:29:10.472371Z",
     "end_time": "2023-05-02T10:29:21.464597Z"
    }
   }
  },
  {
   "cell_type": "code",
   "execution_count": 18,
   "outputs": [
    {
     "name": "stdout",
     "output_type": "stream",
     "text": [
      "+-----------+-----------+----------+----------+----------+-------+\n",
      "|lng_weather|lat_weather|avg_tmpr_f|avg_tmpr_c| wthr_date|geohash|\n",
      "+-----------+-----------+----------+----------+----------+-------+\n",
      "|   -101.238|    19.7128|      61.0|      16.1|2017-08-29|   9g80|\n",
      "|   -71.6781|    18.4932|      78.7|      25.9|2017-08-29|   d7m1|\n",
      "|   -104.629|    20.3924|      63.3|      17.4|2017-08-29|   9ets|\n",
      "|   -88.2381|    20.6006|      82.5|      28.1|2017-08-29|   d59m|\n",
      "|   -73.4394|    19.5544|      85.6|      29.8|2017-08-29|   d77z|\n",
      "|   -81.2557|    25.1487|      84.3|      29.1|2017-08-29|   dhqp|\n",
      "|   -101.569|    27.0982|      82.1|      27.8|2017-08-29|   9szf|\n",
      "|    -110.47|    27.0939|      89.0|      31.7|2017-08-29|   9sc6|\n",
      "|   -112.818|    27.2501|      89.6|      32.0|2017-08-29|   9kzg|\n",
      "|    -103.66|    28.3193|      71.7|      22.1|2017-08-29|   9tn3|\n",
      "|   -105.114|    28.3219|      73.8|      23.2|2017-08-29|   9tj3|\n",
      "|   -102.302|    29.0287|      70.9|      21.6|2017-08-29|   9tpm|\n",
      "|   -81.8899|    28.6907|      77.3|      25.2|2017-08-29|   djjg|\n",
      "|   -92.0686|    29.7195|      82.7|      28.2|2017-08-29|   9vq9|\n",
      "|   -81.2063|    29.1807|      78.0|      25.6|2017-08-29|   djnq|\n",
      "|   -101.926|      29.73|      80.1|      26.7|2017-08-29|   9tr9|\n",
      "|   -83.9861|    30.2706|      78.0|      25.6|2017-08-29|   djkk|\n",
      "|   -95.2684|    30.7928|      70.6|      21.4|2017-08-29|   9vkr|\n",
      "|   -84.6973|    30.5926|      75.9|      24.4|2017-08-29|   dj7y|\n",
      "|   -94.5264|    31.1557|      69.4|      20.8|2017-08-29|   9vsc|\n",
      "+-----------+-----------+----------+----------+----------+-------+\n",
      "only showing top 20 rows\n",
      "\n"
     ]
    }
   ],
   "source": [
    "weather_df.show()"
   ],
   "metadata": {
    "collapsed": false,
    "ExecuteTime": {
     "start_time": "2023-05-02T10:30:04.346244Z",
     "end_time": "2023-05-02T10:30:04.493453Z"
    }
   }
  },
  {
   "cell_type": "code",
   "execution_count": 93,
   "outputs": [],
   "source": [
    "#drop lng_weather and lat_weather\n",
    "weather_df = weather_df.drop('lng_weather', 'lat_weather')"
   ],
   "metadata": {
    "collapsed": false,
    "ExecuteTime": {
     "start_time": "2023-05-02T11:13:27.469589Z",
     "end_time": "2023-05-02T11:13:27.556198Z"
    }
   }
  },
  {
   "cell_type": "markdown",
   "source": [
    "# Join df_geocoded and weather_df"
   ],
   "metadata": {
    "collapsed": false
   }
  },
  {
   "cell_type": "code",
   "execution_count": 94,
   "outputs": [],
   "source": [
    "# Left-join weather and restaurant_df data using the four-character geohash. Make sure to avoid data multiplication and keep your job idempotent\n",
    "df_joined = restaurant_df.join(weather_df, 'geohash', 'left_outer')"
   ],
   "metadata": {
    "collapsed": false,
    "ExecuteTime": {
     "start_time": "2023-05-02T11:13:30.397434Z",
     "end_time": "2023-05-02T11:13:30.439657Z"
    }
   }
  },
  {
   "cell_type": "code",
   "execution_count": 95,
   "outputs": [
    {
     "name": "stdout",
     "output_type": "stream",
     "text": [
      "+-------+------------+------------+--------------+-----------------------+-------+-------+------+-------+----------+----------+----------+\n",
      "|geohash|          id|franchise_id|franchise_name|restaurant_franchise_id|country|   city|   lat|    lng|avg_tmpr_f|avg_tmpr_c| wthr_date|\n",
      "+-------+------------+------------+--------------+-----------------------+-------+-------+------+-------+----------+----------+----------+\n",
      "|   9yt8|120259084300|          13| The Firehouse|                  59829|     US|Branson|36.633|-93.272|      72.9|      22.7|2017-08-28|\n",
      "|   9yt8|120259084300|          13| The Firehouse|                  59829|     US|Branson|36.633|-93.272|      78.5|      25.8|2017-08-19|\n",
      "|   9yt8|120259084300|          13| The Firehouse|                  59829|     US|Branson|36.633|-93.272|      57.5|      14.2|2016-10-20|\n",
      "|   9yt8|120259084300|          13| The Firehouse|                  59829|     US|Branson|36.633|-93.272|      72.6|      22.6|2016-10-19|\n",
      "|   9yt8|120259084300|          13| The Firehouse|                  59829|     US|Branson|36.633|-93.272|      76.3|      24.6|2017-09-03|\n",
      "|   9yt8|120259084300|          13| The Firehouse|                  59829|     US|Branson|36.633|-93.272|      71.2|      21.8|2017-08-04|\n",
      "|   9yt8|120259084300|          13| The Firehouse|                  59829|     US|Branson|36.633|-93.272|      64.8|      18.2|2016-10-25|\n",
      "|   9yt8|120259084300|          13| The Firehouse|                  59829|     US|Branson|36.633|-93.272|      73.7|      23.2|2017-08-01|\n",
      "|   9yt8|120259084300|          13| The Firehouse|                  59829|     US|Branson|36.633|-93.272|      80.3|      26.8|2017-08-21|\n",
      "|   9yt8|120259084300|          13| The Firehouse|                  59829|     US|Branson|36.633|-93.272|      63.7|      17.6|2017-09-06|\n",
      "|   9yt8|120259084300|          13| The Firehouse|                  59829|     US|Branson|36.633|-93.272|      78.5|      25.8|2017-09-22|\n",
      "|   9yt8|120259084300|          13| The Firehouse|                  59829|     US|Branson|36.633|-93.272|      71.7|      22.1|2017-09-14|\n",
      "|   9yt8|120259084300|          13| The Firehouse|                  59829|     US|Branson|36.633|-93.272|      69.5|      20.8|2017-08-06|\n",
      "|   9yt8|120259084300|          13| The Firehouse|                  59829|     US|Branson|36.633|-93.272|      76.3|      24.6|2017-09-19|\n",
      "|   9yt8|120259084300|          13| The Firehouse|                  59829|     US|Branson|36.633|-93.272|      69.9|      21.1|2017-08-05|\n",
      "|   9yt8|120259084300|          13| The Firehouse|                  59829|     US|Branson|36.633|-93.272|      67.8|      19.9|2017-09-28|\n",
      "|   9yt8|120259084300|          13| The Firehouse|                  59829|     US|Branson|36.633|-93.272|      68.7|      20.4|2017-08-13|\n",
      "|   9yt8|120259084300|          13| The Firehouse|                  59829|     US|Branson|36.633|-93.272|      66.6|      19.2|2016-10-11|\n",
      "|   9yt8|120259084300|          13| The Firehouse|                  59829|     US|Branson|36.633|-93.272|      58.6|      14.8|2016-10-22|\n",
      "|   9yt8|120259084300|          13| The Firehouse|                  59829|     US|Branson|36.633|-93.272|      75.5|      24.2|2017-08-22|\n",
      "+-------+------------+------------+--------------+-----------------------+-------+-------+------+-------+----------+----------+----------+\n",
      "only showing top 20 rows\n",
      "\n"
     ]
    }
   ],
   "source": [
    "df_joined.show()"
   ],
   "metadata": {
    "collapsed": false,
    "ExecuteTime": {
     "start_time": "2023-05-02T11:13:31.297717Z",
     "end_time": "2023-05-02T11:13:44.011653Z"
    }
   }
  },
  {
   "cell_type": "code",
   "execution_count": 96,
   "outputs": [
    {
     "data": {
      "text/plain": "172591"
     },
     "execution_count": 96,
     "metadata": {},
     "output_type": "execute_result"
    }
   ],
   "source": [
    "df_joined.count()"
   ],
   "metadata": {
    "collapsed": false,
    "ExecuteTime": {
     "start_time": "2023-05-02T11:13:44.015140Z",
     "end_time": "2023-05-02T11:13:54.775883Z"
    }
   }
  },
  {
   "cell_type": "code",
   "execution_count": 97,
   "outputs": [],
   "source": [
    "#drop Nan values\n",
    "df_joined = df_joined.dropna()"
   ],
   "metadata": {
    "collapsed": false,
    "ExecuteTime": {
     "start_time": "2023-05-02T11:13:54.784497Z",
     "end_time": "2023-05-02T11:13:54.829108Z"
    }
   }
  },
  {
   "cell_type": "code",
   "execution_count": 98,
   "outputs": [],
   "source": [
    "#drop rows where geohash and wthr_date together duplicate\n",
    "df_joined = df_joined.dropDuplicates(['wthr_date', 'geohash'])"
   ],
   "metadata": {
    "collapsed": false,
    "ExecuteTime": {
     "start_time": "2023-05-02T11:13:54.829108Z",
     "end_time": "2023-05-02T11:13:54.891646Z"
    }
   }
  },
  {
   "cell_type": "code",
   "execution_count": 25,
   "outputs": [
    {
     "data": {
      "text/plain": "62897"
     },
     "execution_count": 25,
     "metadata": {},
     "output_type": "execute_result"
    }
   ],
   "source": [
    "df_joined.count()"
   ],
   "metadata": {
    "collapsed": false,
    "ExecuteTime": {
     "start_time": "2023-05-02T10:33:07.717174Z",
     "end_time": "2023-05-02T10:33:24.366152Z"
    }
   }
  },
  {
   "cell_type": "code",
   "execution_count": 26,
   "outputs": [
    {
     "data": {
      "text/plain": "92"
     },
     "execution_count": 26,
     "metadata": {},
     "output_type": "execute_result"
    }
   ],
   "source": [
    "df_joined.where(df_joined['geohash'] == 'dnpe').count()"
   ],
   "metadata": {
    "collapsed": false,
    "ExecuteTime": {
     "start_time": "2023-05-02T10:33:24.366152Z",
     "end_time": "2023-05-02T10:33:25.850398Z"
    }
   }
  },
  {
   "cell_type": "code",
   "execution_count": 27,
   "outputs": [
    {
     "name": "stdout",
     "output_type": "stream",
     "text": [
      "+-------+-----------+------------+---------------+-----------------------+-------+------+------+-------+----------+----------+----------+\n",
      "|geohash|         id|franchise_id| franchise_name|restaurant_franchise_id|country|  city|   lat|    lng|avg_tmpr_f|avg_tmpr_c| wthr_date|\n",
      "+-------+-----------+------------+---------------+-----------------------+-------+------+------+-------+----------+----------+----------+\n",
      "|   dnpe|60129542152|           9|The Grill House|                  71555|     US|Dillon|34.436|-79.370|      71.7|      22.1|2016-10-01|\n",
      "|   dnpe|60129542152|           9|The Grill House|                  71555|     US|Dillon|34.436|-79.370|      70.0|      21.1|2016-10-02|\n",
      "|   dnpe|60129542152|           9|The Grill House|                  71555|     US|Dillon|34.436|-79.370|      70.2|      21.2|2016-10-03|\n",
      "|   dnpe|60129542152|           9|The Grill House|                  71555|     US|Dillon|34.436|-79.370|      68.9|      20.5|2016-10-04|\n",
      "|   dnpe|60129542152|           9|The Grill House|                  71555|     US|Dillon|34.436|-79.370|      67.4|      19.7|2016-10-05|\n",
      "|   dnpe|60129542152|           9|The Grill House|                  71555|     US|Dillon|34.436|-79.370|      68.1|      20.1|2016-10-06|\n",
      "|   dnpe|60129542152|           9|The Grill House|                  71555|     US|Dillon|34.436|-79.370|      73.9|      23.3|2016-10-07|\n",
      "|   dnpe|60129542152|           9|The Grill House|                  71555|     US|Dillon|34.436|-79.370|      69.5|      20.8|2016-10-08|\n",
      "|   dnpe|60129542152|           9|The Grill House|                  71555|     US|Dillon|34.436|-79.370|      65.2|      18.4|2016-10-09|\n",
      "|   dnpe|60129542152|           9|The Grill House|                  71555|     US|Dillon|34.436|-79.370|      58.3|      14.6|2016-10-10|\n",
      "|   dnpe|60129542152|           9|The Grill House|                  71555|     US|Dillon|34.436|-79.370|      57.8|      14.3|2016-10-11|\n",
      "|   dnpe|60129542152|           9|The Grill House|                  71555|     US|Dillon|34.436|-79.370|      63.2|      17.3|2016-10-12|\n",
      "|   dnpe|60129542152|           9|The Grill House|                  71555|     US|Dillon|34.436|-79.370|      65.7|      18.7|2016-10-13|\n",
      "|   dnpe|60129542152|           9|The Grill House|                  71555|     US|Dillon|34.436|-79.370|      65.7|      18.7|2016-10-14|\n",
      "|   dnpe|60129542152|           9|The Grill House|                  71555|     US|Dillon|34.436|-79.370|      64.1|      17.8|2016-10-15|\n",
      "|   dnpe|60129542152|           9|The Grill House|                  71555|     US|Dillon|34.436|-79.370|      65.9|      18.8|2016-10-16|\n",
      "|   dnpe|60129542152|           9|The Grill House|                  71555|     US|Dillon|34.436|-79.370|      68.6|      20.3|2016-10-17|\n",
      "|   dnpe|60129542152|           9|The Grill House|                  71555|     US|Dillon|34.436|-79.370|      70.6|      21.4|2016-10-18|\n",
      "|   dnpe|60129542152|           9|The Grill House|                  71555|     US|Dillon|34.436|-79.370|      72.8|      22.7|2016-10-19|\n",
      "|   dnpe|60129542152|           9|The Grill House|                  71555|     US|Dillon|34.436|-79.370|      71.4|      21.9|2016-10-20|\n",
      "+-------+-----------+------------+---------------+-----------------------+-------+------+------+-------+----------+----------+----------+\n",
      "only showing top 20 rows\n",
      "\n"
     ]
    }
   ],
   "source": [
    "#show where geohash equals dnpe\n",
    "df_joined.where(df_joined['geohash'] == 'dnpe').show()"
   ],
   "metadata": {
    "collapsed": false,
    "ExecuteTime": {
     "start_time": "2023-05-02T10:33:28.221688Z",
     "end_time": "2023-05-02T10:33:47.120257Z"
    }
   }
  },
  {
   "cell_type": "code",
   "execution_count": 28,
   "outputs": [],
   "source": [
    "#preserving data partitioning in the parquet format.\n",
    "df_joined.write.partitionBy('city').parquet('final_partitioned.parquet', mode='overwrite')"
   ],
   "metadata": {
    "collapsed": false,
    "ExecuteTime": {
     "start_time": "2023-05-02T10:34:21.419630Z",
     "end_time": "2023-05-02T10:34:41.014408Z"
    }
   }
  },
  {
   "cell_type": "markdown",
   "source": [
    "# Testing\n"
   ],
   "metadata": {
    "collapsed": false
   }
  },
  {
   "cell_type": "code",
   "execution_count": 118,
   "outputs": [],
   "source": [
    "import unittest\n",
    "from pyspark.sql import SparkSession\n",
    "from pyspark.sql.functions import col\n",
    "\n",
    "class TestUDFs(unittest.TestCase):\n",
    "\n",
    "    @classmethod\n",
    "    def setUpClass(cls):\n",
    "        cls.spark = SparkSession.builder.appName(\"test_udfs\").getOrCreate()\n",
    "\n",
    "    @classmethod\n",
    "    def tearDownClass(cls):\n",
    "        cls.spark.stop()\n",
    "\n",
    "    def test_latitude_udf(self):\n",
    "        df = self.spark.createDataFrame(\n",
    "            [\n",
    "                (\"New York\", \"USA\", None),\n",
    "                (\"Paris\", \"France\", None),\n",
    "                (\"Sydney\", \"Australia\", 34.0522),\n",
    "            ],\n",
    "            [\"city\", \"country\", \"latitude\"],\n",
    "        )\n",
    "\n",
    "        # Call the UDF with a null value\n",
    "        df = df.withColumn(\n",
    "            \"latitude\", latitude_udf(col(\"city\"), col(\"country\"), col(\"latitude\"))\n",
    "        )\n",
    "\n",
    "        # Check that the null value has been filled\n",
    "        self.assertEqual(df.filter(df.city == \"New York\").first().latitude, \"40.7127281\")\n",
    "\n",
    "        # Call the UDF with an existing value\n",
    "        df = df.withColumn(\n",
    "            \"latitude\", latitude_udf(col(\"city\"), col(\"country\"), col(\"latitude\"))\n",
    "        )\n",
    "\n",
    "        # Check that the existing value is not changed\n",
    "        self.assertEqual(df.filter(df.city == \"Sydney\").first().latitude, \"34.0522\")\n",
    "\n",
    "    def test_longitude_udf(self):\n",
    "        df = self.spark.createDataFrame(\n",
    "            [\n",
    "                (\"New York\", \"USA\", None),\n",
    "                (\"Paris\", \"France\", None),\n",
    "                (\"Sydney\", \"Australia\", 151.2093),\n",
    "            ],\n",
    "            [\"city\", \"country\", \"longitude\"],\n",
    "        )\n",
    "\n",
    "        # Call the UDF with a null value\n",
    "        df = df.withColumn(\n",
    "            \"longitude\", longitude_udf(col(\"city\"), col(\"country\"), col(\"longitude\"))\n",
    "        )\n",
    "\n",
    "        # Check that the null value has been filled\n",
    "        self.assertEqual(df.filter(df.city == \"Paris\").first().longitude, \"2.320041\")\n",
    "\n",
    "        # Call the UDF with an existing value\n",
    "        df = df.withColumn(\n",
    "            \"longitude\", longitude_udf(col(\"city\"), col(\"country\"), col(\"longitude\"))\n",
    "        )\n",
    "\n",
    "        # Check that the existing value is not changed\n",
    "        self.assertEqual(df.filter(df.city == \"Sydney\").first().longitude, \"151.2093\")\n",
    "\n",
    "    def test_geohash_udf(self):\n",
    "        df = self.spark.createDataFrame(\n",
    "            [\n",
    "                (40.7128, -74.0060),\n",
    "                (48.8566, 2.3522),\n",
    "                (-33.8650, 151.2093),\n",
    "            ],\n",
    "            [\"latitude\", \"longitude\"],\n",
    "        )\n",
    "\n",
    "        # Call the UDF to generate geohashes\n",
    "        df = df.withColumn(\n",
    "            \"geohash\", geohash_udf(col(\"latitude\"), col(\"longitude\"))\n",
    "        )\n",
    "\n",
    "        # Check that the geohashes were generated correctly\n",
    "        self.assertEqual(df.filter(df.latitude == 40.7128).first().geohash, gh.encode(40.7128, -74.0060, precision=4))\n",
    "        self.assertEqual(df.filter(df.latitude == 48.8566).first().geohash, gh.encode(48.8566, 2.3522, precision=4))\n",
    "        self.assertEqual(df.filter(df.latitude == -33.8650).first().geohash, gh.encode(-33.8650, 151.2093, precision=4))\n"
   ],
   "metadata": {
    "collapsed": false,
    "ExecuteTime": {
     "start_time": "2023-05-02T11:58:22.289060Z",
     "end_time": "2023-05-02T11:58:22.335823Z"
    }
   }
  },
  {
   "cell_type": "code",
   "execution_count": 119,
   "outputs": [
    {
     "name": "stderr",
     "output_type": "stream",
     "text": [
      "test_geohash_udf (__main__.TestUDFs) ... ok\n",
      "test_latitude_udf (__main__.TestUDFs) ... ok\n",
      "test_longitude_udf (__main__.TestUDFs) ... ok\n",
      "\n",
      "----------------------------------------------------------------------\n",
      "Ran 3 tests in 183.135s\n",
      "\n",
      "OK\n"
     ]
    },
    {
     "data": {
      "text/plain": "<unittest.runner.TextTestResult run=3 errors=0 failures=0>"
     },
     "execution_count": 119,
     "metadata": {},
     "output_type": "execute_result"
    }
   ],
   "source": [
    "# Create an instance of the test class\n",
    "test_suite = unittest.TestLoader().loadTestsFromTestCase(TestUDFs)\n",
    "\n",
    "# Run the tests\n",
    "unittest.TextTestRunner(verbosity=2).run(test_suite)\n"
   ],
   "metadata": {
    "collapsed": false,
    "ExecuteTime": {
     "start_time": "2023-05-02T11:58:23.460079Z",
     "end_time": "2023-05-02T12:01:26.605449Z"
    }
   }
  },
  {
   "cell_type": "code",
   "execution_count": null,
   "outputs": [],
   "source": [],
   "metadata": {
    "collapsed": false
   }
  }
 ],
 "metadata": {
  "kernelspec": {
   "display_name": "Python 3 (ipykernel)",
   "language": "python",
   "name": "python3"
  },
  "language_info": {
   "codemirror_mode": {
    "name": "ipython",
    "version": 3
   },
   "file_extension": ".py",
   "mimetype": "text/x-python",
   "name": "python",
   "nbconvert_exporter": "python",
   "pygments_lexer": "ipython3",
   "version": "3.10.9"
  }
 },
 "nbformat": 4,
 "nbformat_minor": 5
}
